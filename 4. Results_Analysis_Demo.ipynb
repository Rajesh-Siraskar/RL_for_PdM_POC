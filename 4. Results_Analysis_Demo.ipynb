{
 "cells": [
  {
   "cell_type": "markdown",
   "id": "b96d9169",
   "metadata": {},
   "source": [
    "## Reinforcement Learning for Predictive Mainteance\n",
    "\n",
    "### Analysis Notebook\n",
    "\n",
    "- Author: Rajesh Siraskar\n",
    "- Date: 13-Jan-2022\n",
    "\n",
    "#### Objectives:\n",
    "- Graphical view of bearing failure data and suggested maintenance actions\n",
    "- Graphical analysis of trained agent output"
   ]
  },
  {
   "cell_type": "code",
   "execution_count": null,
   "id": "e12704b1",
   "metadata": {},
   "outputs": [],
   "source": [
    "import pandas as pd\n",
    "import matplotlib.pyplot as plt\n",
    "from matplotlib.pyplot import figure"
   ]
  },
  {
   "cell_type": "markdown",
   "id": "072b2cce",
   "metadata": {},
   "source": [
    "#### Constants"
   ]
  },
  {
   "cell_type": "code",
   "execution_count": null,
   "id": "367da6d1",
   "metadata": {},
   "outputs": [],
   "source": [
    "BEARING_FAILURE_DATA_FILE = 'data\\data.csv'\n",
    "TRAINING_RESULTS_FILE = 'Test_run_A2C_09-Feb.csv'\n",
    "\n",
    "\n",
    "PLOT_WIDTH = 12\n",
    "PLOT_HEIGHT = 3"
   ]
  },
  {
   "cell_type": "markdown",
   "id": "2eeea4ce",
   "metadata": {},
   "source": [
    "#### Read and plot bearing failure data and suggested maintenance actions"
   ]
  },
  {
   "cell_type": "code",
   "execution_count": null,
   "id": "50d25800",
   "metadata": {},
   "outputs": [],
   "source": [
    "bearing_data = pd.read_csv(BEARING_FAILURE_DATA_FILE)\n",
    "\n",
    "t = bearing_data.time\n",
    "vibration = bearing_data.vibration/bearing_data.vibration.max()\n",
    "action_code = bearing_data.ACTION_CODE/bearing_data.ACTION_CODE.max()\n",
    "temperature = bearing_data.temperature/bearing_data.temperature.max()\n",
    "rul = bearing_data.RUL/bearing_data.RUL.max()"
   ]
  },
  {
   "cell_type": "code",
   "execution_count": null,
   "id": "ec657cc7",
   "metadata": {},
   "outputs": [],
   "source": [
    "plt.style.use('seaborn-pastel')\n",
    "\n",
    "figure(figsize=(PLOT_WIDTH, PLOT_HEIGHT), dpi=80)\n",
    "plt.plot(t, vibration,  'cadetblue', alpha=0.8, linewidth=3, label='vibration')\n",
    "plt.plot(t, action_code, 'r', alpha=0.5, linewidth=2, label='Recommended action')\n",
    "\n",
    "# Annotation\n",
    "plt.text(120, 0.05,'No-Action', color='gray')\n",
    "plt.text(180, 0.40,'Maintenance regular', color='gray')\n",
    "plt.text(290, 0.67,'Maintenance special', color='gray')\n",
    "plt.text(320, 0.90,'* Replace *', color='gray')\n",
    "\n",
    "plt.legend(shadow=True, framealpha=1)\n",
    "plt.grid(alpha=0.3)\n",
    "plt.xlabel('time')\n",
    "plt.title('Bearing operational data')\n",
    "plt.show()"
   ]
  },
  {
   "cell_type": "markdown",
   "id": "ce9527e2",
   "metadata": {},
   "source": [
    "### Analysis of results"
   ]
  },
  {
   "cell_type": "code",
   "execution_count": null,
   "id": "83c11295",
   "metadata": {},
   "outputs": [],
   "source": [
    "results = pd.read_csv(TRAINING_RESULTS_FILE)\n",
    "\n",
    "recommended_action_original = results.Recommended_Action\n",
    "recommended_action_RL = results.Action_Code\n",
    "maintenance_events = results.MaintenanceEvents\n",
    "cost = results.Cost\n",
    "rul = results.RUL\n",
    "\n",
    "T = len(results.index)"
   ]
  },
  {
   "cell_type": "markdown",
   "id": "b8a3d218",
   "metadata": {},
   "source": [
    "#### Agent recommendation vs Human recommendation"
   ]
  },
  {
   "cell_type": "code",
   "execution_count": null,
   "id": "e90cb342",
   "metadata": {},
   "outputs": [],
   "source": [
    "plt.style.use('seaborn-pastel')\n",
    "\n",
    "figure(figsize=(16, 3), dpi=80)\n",
    "plt.plot(recommended_action_original,  'cadetblue', alpha=0.8, linewidth=1, label='Original')\n",
    "plt.plot(recommended_action_RL, 'r', alpha=0.5, linewidth=1, label='RL Agent')\n",
    "\n",
    "\n",
    "plt.legend(shadow=True, framealpha=1)\n",
    "plt.grid(alpha=0.3)\n",
    "plt.xlabel('time')\n",
    "plt.title('Agent recommendation vs Human recommendation')\n",
    "plt.show()"
   ]
  },
  {
   "cell_type": "markdown",
   "id": "866ea1e8",
   "metadata": {},
   "source": [
    "### Last 400 episodes: Agent recommendation vs Human recommendation"
   ]
  },
  {
   "cell_type": "code",
   "execution_count": null,
   "id": "62087e7f",
   "metadata": {},
   "outputs": [],
   "source": [
    "plt.style.use('seaborn-pastel')\n",
    "\n",
    "figure(figsize=(16, 3), dpi=80)\n",
    "plt.plot(recommended_action_original[T-400:T],  'cadetblue', linewidth=1, label='Original')\n",
    "plt.plot(recommended_action_RL[T-400:T], 'r', alpha=0.8, linewidth=1, label='RL Agent')\n",
    "\n",
    "plt.legend(shadow=True, framealpha=1)\n",
    "plt.grid(alpha=0.3)\n",
    "plt.xlabel('time')\n",
    "plt.title('Last 600 episodes >> Agent recommendation vs Human recommendation')\n",
    "plt.show()"
   ]
  },
  {
   "cell_type": "markdown",
   "id": "99a74427",
   "metadata": {},
   "source": [
    "### Agent recommended: Maintenance events"
   ]
  },
  {
   "cell_type": "code",
   "execution_count": null,
   "id": "9a401765",
   "metadata": {},
   "outputs": [],
   "source": [
    "figure(figsize=(16, 3), dpi=80)\n",
    "plt.plot(maintenance_events,  'cadetblue', linewidth=1, label='Maintenance events')\n",
    "plt.legend(shadow=True, framealpha=1)\n",
    "plt.grid(alpha=0.3)\n",
    "plt.xlabel('time')\n",
    "plt.title('Maintenance events')\n",
    "plt.show()"
   ]
  },
  {
   "cell_type": "markdown",
   "id": "5aade399",
   "metadata": {},
   "source": [
    "### Agent recommended: Maintenance cost over time"
   ]
  },
  {
   "cell_type": "code",
   "execution_count": null,
   "id": "6223dac9",
   "metadata": {
    "scrolled": true
   },
   "outputs": [],
   "source": [
    "figure(figsize=(16, 3), dpi=80)\n",
    "plt.plot(cost, 'r', alpha=0.5, linewidth=1, label='Cost')\n",
    "plt.legend(shadow=True, framealpha=1)\n",
    "plt.grid(alpha=0.3)\n",
    "plt.xlabel('time')\n",
    "plt.title('Cost over time')\n",
    "plt.show()"
   ]
  },
  {
   "cell_type": "markdown",
   "id": "033e910d",
   "metadata": {},
   "source": [
    "### RUL pattern"
   ]
  },
  {
   "cell_type": "code",
   "execution_count": null,
   "id": "dd617d9d",
   "metadata": {
    "scrolled": true
   },
   "outputs": [],
   "source": [
    "figure(figsize=(16, 3), dpi=80)\n",
    "plt.plot(rul[T-400:T], 'b', alpha=0.5, linewidth=1, label='RUL')\n",
    "plt.legend(shadow=True, framealpha=1)\n",
    "plt.grid(alpha=0.3)\n",
    "plt.xlabel('time')\n",
    "plt.title('RUL vs Episodes')\n",
    "plt.show()"
   ]
  },
  {
   "cell_type": "code",
   "execution_count": null,
   "id": "2137a92d",
   "metadata": {},
   "outputs": [],
   "source": []
  }
 ],
 "metadata": {
  "kernelspec": {
   "display_name": "Python 3",
   "language": "python",
   "name": "python3"
  },
  "language_info": {
   "codemirror_mode": {
    "name": "ipython",
    "version": 3
   },
   "file_extension": ".py",
   "mimetype": "text/x-python",
   "name": "python",
   "nbconvert_exporter": "python",
   "pygments_lexer": "ipython3",
   "version": "3.8.8"
  }
 },
 "nbformat": 4,
 "nbformat_minor": 5
}
